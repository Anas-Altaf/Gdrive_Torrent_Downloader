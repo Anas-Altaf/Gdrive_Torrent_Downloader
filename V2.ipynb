{
  "cells": [
    {
      "cell_type": "markdown",
      "metadata": {
        "id": "view-in-github",
        "colab_type": "text"
      },
      "source": [
        "<a href=\"https://colab.research.google.com/github/Anas-Altaf/Gdrive_Torrent_Downloader/blob/main/Tor_to_Gdrive_with_Bar.ipynb\" target=\"_parent\"><img src=\"https://colab.research.google.com/assets/colab-badge.svg\" alt=\"Open In Colab\"/></a>"
      ]
    },
    {
      "cell_type": "markdown",
      "metadata": {
        "id": "aQuWDmfm9YOi"
      },
      "source": [
        "# Torrent To Google Drive Downloader"
      ]
    },
    {
      "cell_type": "markdown",
      "metadata": {
        "id": "qYk44mBwJf6E"
      },
      "source": [
        "**Important Note:** To get more disk space:\n",
        "> Go to Runtime -> Change Runtime and set GPU as the Hardware Accelerator. You will get around 384GB to download any torrent you want."
      ]
    },
    {
      "cell_type": "markdown",
      "metadata": {
        "id": "NaFa7M-e9YOr"
      },
      "source": [
        "### Install libtorrent and Initialize Session"
      ]
    },
    {
      "cell_type": "code",
      "execution_count": 1,
      "metadata": {},
      "outputs": [],
      "source": [
        "!python -m pip install lbry-libtorrent\n",
        "!apt install python3-libtorrent\n",
        "\n",
        "import libtorrent as lt\n",
        "\n",
        "ses = lt.session()\n",
        "ses.listen_on(6881, 6891)\n",
        "downloads = []"
      ]
    },
    {
      "cell_type": "markdown",
      "metadata": {
        "id": "Uf90U73y9YOj"
      },
      "source": [
        "### Mount Google Drive\n",
        "To stream files we need to mount Google Drive."
      ]
    },
    {
      "cell_type": "code",
      "execution_count": 2,
      "metadata": {},
      "outputs": [],
      "source": [
        "from google.colab import drive\n",
        "drive.mount('/content/drive')"
      ]
    },
    {
      "cell_type": "markdown",
      "metadata": {
        "id": "R_1XuuIf9YOn"
      },
      "source": [
        "### Add From Torrent File\n",
        "You can run this cell to add more files as many times as you want"
      ]
    },
    {
      "cell_type": "code",
      "execution_count": 3,
      "metadata": {},
      "outputs": [],
      "source": [
        "from google.colab import files\n",
        "\n",
        "source = files.upload()\n",
        "for filename in source.keys():\n",
        "    ti = lt.torrent_info(filename)\n",
        "    h = ses.add_torrent({'ti': ti, 'save_path': '/content/drive/MyDrive/Torrents'})\n",
        "    downloads.append(h)\n",
        "    print(f'Added torrent: {filename}')"
      ]
    },
    {
      "cell_type": "markdown",
      "metadata": {
        "id": "WD-6M6eZyzmj"
      },
      "source": [
        "### Add From Magnet Link\n",
        "You can run this cell to add more files as many times as you want"
      ]
    },
    {
      "cell_type": "code",
      "execution_count": 4,
      "metadata": {},
      "outputs": [],
      "source": [
        "params = {'save_path': '/content/drive/My Drive/Torrents'}\n",
        "\n",
        "while True:\n",
        "    magnet_link = input('Enter Magnet Link Or Type Exit: ')\n",
        "    if magnet_link.lower() == 'exit':\n",
        "        break\n",
        "    h = lt.add_magnet_uri(ses, magnet_link, params)\n",
        "    downloads.append(h)\n",
        "    print('Added magnet link')"
      ]
    },
    {
      "cell_type": "markdown",
      "metadata": {
        "id": "m-a1CUP39YOu"
      },
      "source": [
        "### Start Download\n",
        "Monitor the download progress"
      ]
    },
    {
      "cell_type": "code",
      "execution_count": 5,
      "metadata": {},
      "outputs": [],
      "source": [
        "import time\n",
        "from IPython.display import display\n",
        "import ipywidgets as widgets\n",
        "\n",
        "state_str = [\n",
        "    'queued',\n",
        "    'checking',\n",
        "    'downloading metadata',\n",
        "    'downloading',\n",
        "    'finished',\n",
        "    'seeding',\n",
        "    'allocating',\n",
        "    'checking fastresume'\n",
        "]\n",
        "\n",
        "layout = widgets.Layout(width='auto')\n",
        "style = {'description_width': 'initial'}\n",
        "download_bars = [\n",
        "    widgets.FloatSlider(step=0.01, disabled=True, layout=layout, style=style)\n",
        "    for _ in downloads\n",
        "]\n",
        "display(*download_bars)\n",
        "\n",
        "while downloads:\n",
        "    next_shift = 0\n",
        "    for index, download in enumerate(downloads[:]):\n",
        "        bar = download_bars[index + next_shift]\n",
        "        if not download.is_seed():\n",
        "            s = download.status()\n",
        "            bar.description = f'{download.name()} {s.download_rate / 1000:.2f} kB/s {state_str[s.state]}'\n",
        "            bar.value = s.progress * 100\n",
        "        else:\n",
        "            downloads.remove(download)\n",
        "            download_bars.remove(bar)\n",
        "            next_shift -= 1\n",
        "    time.sleep(1)"
      ]
    }
  ],
  "metadata": {
    "colab": {
      "name": "Torrent to Google Drive Downloader.ipynb",
      "provenance": []
    },
    "kernelspec": {
      "display_name": "Python 3",
      "language": "python",
      "name": "python3"
    },
    "language_info": {
      "codemirror_mode": {
        "name": "ipython",
        "version": 3
      },
      "file_extension": ".py",
      "mimetype": "text/x-python",
      "name": "python",
      "nbconvert_exporter": "python",
      "pygments_lexer": "ipython3",
      "version": "3.10.11"
    }
  },
  "nbformat": 4,
  "nbformat_minor": 0
}
